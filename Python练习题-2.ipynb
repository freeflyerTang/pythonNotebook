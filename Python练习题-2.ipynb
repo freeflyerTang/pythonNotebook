{
 "cells": [
  {
   "cell_type": "markdown",
   "metadata": {},
   "source": [
    "（一）利用递归方法求5！(5的阶乘)"
   ]
  },
  {
   "cell_type": "code",
   "execution_count": 1,
   "metadata": {},
   "outputs": [
    {
     "name": "stdout",
     "output_type": "stream",
     "text": [
      "0!=1\n",
      "1!=1\n",
      "2!=2\n",
      "3!=6\n",
      "4!=24\n",
      "5!=120\n",
      "6!=720\n",
      "7!=5040\n",
      "8!=40320\n",
      "9!=362880\n"
     ]
    }
   ],
   "source": [
    "def digui(num):\n",
    "    sum = 0\n",
    "    if num == 0:\n",
    "        sum = 1\n",
    "    else:\n",
    "        sum = num*digui(num-1)\n",
    "    return sum\n",
    "for i in range(10):\n",
    "    print ('%d!=%d'%(i,digui(i)))"
   ]
  },
  {
   "cell_type": "markdown",
   "metadata": {},
   "source": [
    "（二）利用递归函数调用方式，将所输入的5个字符以相反顺序打印出来"
   ]
  },
  {
   "cell_type": "code",
   "execution_count": 2,
   "metadata": {},
   "outputs": [
    {
     "name": "stdout",
     "output_type": "stream",
     "text": [
      "输入5个字符：tangy\n",
      "y\n",
      "g\n",
      "n\n",
      "a\n",
      "t\n"
     ]
    }
   ],
   "source": [
    "def output(s,l):\n",
    "    if l == 0:\n",
    "        return\n",
    "    else:\n",
    "        print(s[l-1]) \n",
    "        output(s,l-1)\n",
    "\n",
    "s = input('输入5个字符：')\n",
    "l = len(s)\n",
    "output(s,l)"
   ]
  },
  {
   "cell_type": "markdown",
   "metadata": {},
   "source": [
    "（三）按逗号分隔列表"
   ]
  },
  {
   "cell_type": "code",
   "execution_count": 9,
   "metadata": {},
   "outputs": [
    {
     "data": {
      "text/plain": [
       "'tang,yu,di,123'"
      ]
     },
     "execution_count": 9,
     "metadata": {},
     "output_type": "execute_result"
    }
   ],
   "source": [
    "L = ['tang','yu','di',123]\n",
    "s = ','.join([str(n) for n in L])# [n for n in L]为列表生成式\n",
    "s"
   ]
  },
  {
   "cell_type": "markdown",
   "metadata": {},
   "source": [
    "（四）将一个数组逆序输出"
   ]
  },
  {
   "cell_type": "code",
   "execution_count": 4,
   "metadata": {},
   "outputs": [
    {
     "name": "stdout",
     "output_type": "stream",
     "text": [
      "[1, 9, 5, 3, 40, 2]\n",
      "------------------------\n",
      " [2, 40, 5, 3, 9, 1]\n"
     ]
    }
   ],
   "source": [
    "arr = [1,9,5,3,40,2]\n",
    "num = len(arr)\n",
    "print(arr)\n",
    "for i in range(int((num-1)/2)): # 调换位置 第一个跟最后一个换，第二个跟倒数第二个换\n",
    "    arr[i],arr[num-1-i]=arr[num-1-i],arr[i]\n",
    "print('------------------------\\n',arr)"
   ]
  },
  {
   "cell_type": "markdown",
   "metadata": {},
   "source": [
    "（五）两个3行3列的矩阵，实现其对应位置的数据相加，并返回一个新矩阵"
   ]
  },
  {
   "cell_type": "code",
   "execution_count": 5,
   "metadata": {},
   "outputs": [
    {
     "name": "stdout",
     "output_type": "stream",
     "text": [
      "[17, 4, 35]\n",
      "[8, 60, 12]\n",
      "[14, 16, 99]\n"
     ]
    }
   ],
   "source": [
    "X = [\n",
    "     [1,2,3],\n",
    "     [4,5,6],\n",
    "     [7,8,9]\n",
    "    ]\n",
    "Y = [\n",
    "     [16,2,32],\n",
    "     [4,55,6],\n",
    "     [7,8,90]\n",
    "    ]\n",
    "Z = [\n",
    "     [0,0,0],\n",
    "     [0,0,0],\n",
    "     [0,0,0]\n",
    "    ]\n",
    "for i in range(3):#3行\n",
    "    for j in range(3):#3列\n",
    "        Z[i][j] = X[i][j]+Y[i][j]\n",
    "for z in Z:\n",
    "    print(z)"
   ]
  },
  {
   "cell_type": "markdown",
   "metadata": {},
   "source": [
    "（六）匿名函数求和"
   ]
  },
  {
   "cell_type": "code",
   "execution_count": 6,
   "metadata": {},
   "outputs": [
    {
     "name": "stdout",
     "output_type": "stream",
     "text": [
      "3\n"
     ]
    }
   ],
   "source": [
    "sum_value = lambda x,y:x+y\n",
    "print(sum_value(1,2))"
   ]
  },
  {
   "cell_type": "markdown",
   "metadata": {},
   "source": [
    "（七）查找字符串的位置"
   ]
  },
  {
   "cell_type": "code",
   "execution_count": 7,
   "metadata": {},
   "outputs": [
    {
     "data": {
      "text/plain": [
       "3"
      ]
     },
     "execution_count": 7,
     "metadata": {},
     "output_type": "execute_result"
    }
   ],
   "source": [
    "s1 = 'sdfsdgeertb'\n",
    "s2 = 'sdg'\n",
    "s1.find(s2)"
   ]
  },
  {
   "cell_type": "markdown",
   "metadata": {},
   "source": [
    "（八）在字典中找到年龄最大的人，并输出"
   ]
  },
  {
   "cell_type": "code",
   "execution_count": 14,
   "metadata": {},
   "outputs": [
    {
     "name": "stdout",
     "output_type": "stream",
     "text": [
      "wangwu 90\n"
     ]
    }
   ],
   "source": [
    "people = {'zhangsan':40,'lisi':10,'wangwu':90}\n",
    "minp = 'lisi'\n",
    "for key in people.keys():\n",
    "    if people[key]> people[minp]:\n",
    "        minp=key\n",
    "print(minp,people[minp])\n",
    "    "
   ]
  },
  {
   "cell_type": "markdown",
   "metadata": {},
   "source": [
    "（九）列表转化为字典"
   ]
  },
  {
   "cell_type": "code",
   "execution_count": 17,
   "metadata": {},
   "outputs": [
    {
     "name": "stdout",
     "output_type": "stream",
     "text": [
      "{'tang': 'yudi', '123': '456'}\n"
     ]
    }
   ],
   "source": [
    "k = ['tang','yudi']\n",
    "v = ['123','456']\n",
    "print(dict([k,v]))"
   ]
  },
  {
   "cell_type": "markdown",
   "metadata": {},
   "source": [
    "（十）从键盘输入一个字符串，将小写字母全部转换为大写字母，然后输出到一个磁盘文件‘test’中保存"
   ]
  },
  {
   "cell_type": "code",
   "execution_count": 15,
   "metadata": {},
   "outputs": [
    {
     "name": "stdout",
     "output_type": "stream",
     "text": [
      "输入一个字符串：sdfasdgads\n",
      "SDFASDGADS\n"
     ]
    }
   ],
   "source": [
    "a = input('输入一个字符串：')\n",
    "a=a.upper()\n",
    "f = open('test.txt','w')\n",
    "f.write(a)\n",
    "f.close()\n",
    "\n",
    "f = open('test.txt','r')\n",
    "print(f.read())\n",
    "f.close()\n"
   ]
  },
  {
   "cell_type": "code",
   "execution_count": null,
   "metadata": {},
   "outputs": [],
   "source": []
  },
  {
   "cell_type": "code",
   "execution_count": null,
   "metadata": {},
   "outputs": [],
   "source": []
  }
 ],
 "metadata": {
  "kernelspec": {
   "display_name": "Python 3",
   "language": "python",
   "name": "python3"
  },
  "language_info": {
   "codemirror_mode": {
    "name": "ipython",
    "version": 3
   },
   "file_extension": ".py",
   "mimetype": "text/x-python",
   "name": "python",
   "nbconvert_exporter": "python",
   "pygments_lexer": "ipython3",
   "version": "3.6.4"
  }
 },
 "nbformat": 4,
 "nbformat_minor": 2
}
