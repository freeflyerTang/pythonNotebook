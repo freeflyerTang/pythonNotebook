{
 "cells": [
  {
   "cell_type": "markdown",
   "metadata": {},
   "source": [
    "（一）有四个数字，1、2、3、4，能组成多少个互不相同且不重复的三位数？各是多少？"
   ]
  },
  {
   "cell_type": "code",
   "execution_count": 1,
   "metadata": {},
   "outputs": [
    {
     "name": "stdout",
     "output_type": "stream",
     "text": [
      "1 2 3\n",
      "1 2 4\n",
      "1 3 2\n",
      "1 3 4\n",
      "1 4 2\n",
      "1 4 3\n",
      "2 1 3\n",
      "2 1 4\n",
      "2 3 1\n",
      "2 3 4\n",
      "2 4 1\n",
      "2 4 3\n",
      "3 1 2\n",
      "3 1 4\n",
      "3 2 1\n",
      "3 2 4\n",
      "3 4 1\n",
      "3 4 2\n",
      "4 1 2\n",
      "4 1 3\n",
      "4 2 1\n",
      "4 2 3\n",
      "4 3 1\n",
      "4 3 2\n"
     ]
    }
   ],
   "source": [
    "for b in range(1,5):\n",
    "    for s in range(1,5):\n",
    "        for g in range(1,5):\n",
    "            if (b!=s) and (b!=g) and (s!=g):\n",
    "                print(b,s,g)"
   ]
  },
  {
   "cell_type": "markdown",
   "metadata": {},
   "source": [
    "（二）输入三个整数x、y、z，并把他们从小到大排序"
   ]
  },
  {
   "cell_type": "code",
   "execution_count": 4,
   "metadata": {},
   "outputs": [
    {
     "name": "stdout",
     "output_type": "stream",
     "text": [
      "输入x：34\n",
      "输入y：4\n",
      "输入z：890\n",
      "{'4', '34', '890'}\n"
     ]
    }
   ],
   "source": [
    "x = input('输入x：')\n",
    "y = input('输入y：')\n",
    "z = input('输入z：')\n",
    "array = {x,y,z}\n",
    "print(array)"
   ]
  },
  {
   "cell_type": "code",
   "execution_count": 17,
   "metadata": {},
   "outputs": [
    {
     "name": "stdout",
     "output_type": "stream",
     "text": [
      "请输入整数：999\n",
      "请输入整数：23\n",
      "请输入整数：567\n"
     ]
    },
    {
     "data": {
      "text/plain": [
       "[23, 567, 999]"
      ]
     },
     "execution_count": 17,
     "metadata": {},
     "output_type": "execute_result"
    }
   ],
   "source": [
    "my_list = []\n",
    "for i in range(3):\n",
    "    x = int(input('请输入整数：'))\n",
    "    my_list.append(x)\n",
    "my_list.sort()\n",
    "my_list"
   ]
  },
  {
   "cell_type": "markdown",
   "metadata": {},
   "source": [
    "（三）企业发放的奖金根据利润提成。利润(I)低于或等于10万元时，奖金可提10%；利润高于10万元，低于20万元时，低于10万元的部分按10%提成，高于10万元的部分，可可提成7.5%；20万到40万之间时，高于20万元的部分，可提成5%；40万到60万之间时高于40万元的部分，可提成3%；60万到100万之间时，高于60万元的部分，可提成1.5%，高于100万元时，超过100万元的部分按1%提成，从键盘输入当月利润I，求应发放奖金总数？"
   ]
  },
  {
   "cell_type": "code",
   "execution_count": 12,
   "metadata": {},
   "outputs": [
    {
     "name": "stdout",
     "output_type": "stream",
     "text": [
      "输入当月利润1200000\n",
      "95500.0\n"
     ]
    }
   ],
   "source": [
    "i = int(input('输入当月利润'))\n",
    "arr = [1000000,600000,400000,200000,100000,0]\n",
    "rat = [0.01,0.15,0.03,0.05,0.075,0.1]\n",
    "result = 0\n",
    "for idx in range(0,6):\n",
    "    if i > arr[idx]:\n",
    "        result += (i-arr[idx])*rat[idx]\n",
    "        i = arr[idx]\n",
    "print(result)"
   ]
  },
  {
   "cell_type": "markdown",
   "metadata": {},
   "source": [
    "(四)将一个列表当中的数据复制到另一个列表里"
   ]
  },
  {
   "cell_type": "code",
   "execution_count": 19,
   "metadata": {},
   "outputs": [
    {
     "data": {
      "text/plain": [
       "[1, 2, 3]"
      ]
     },
     "execution_count": 19,
     "metadata": {},
     "output_type": "execute_result"
    }
   ],
   "source": [
    "a = [1,2,3]\n",
    "b = a[:]\n",
    "b"
   ]
  },
  {
   "cell_type": "markdown",
   "metadata": {},
   "source": [
    "（五）暂停一秒输出，并格式化当前时间。使用time模块的sleep函数"
   ]
  },
  {
   "cell_type": "code",
   "execution_count": 24,
   "metadata": {},
   "outputs": [
    {
     "name": "stdout",
     "output_type": "stream",
     "text": [
      "2018-05-22 15:16:18\n",
      "2018-05-22 15:16:19\n",
      "2018-05-22 15:16:21\n"
     ]
    }
   ],
   "source": [
    "import time\n",
    "print(time.strftime('%Y-%m-%d %H:%M:%S',time.localtime(time.time())))\n",
    "\n",
    "time.sleep(1)\n",
    "\n",
    "print(time.strftime('%Y-%m-%d %H:%M:%S',time.localtime(time.time())))\n",
    "\n",
    "time.sleep(2)\n",
    "\n",
    "print(time.strftime('%Y-%m-%d %H:%M:%S',time.localtime(time.time())))\n"
   ]
  },
  {
   "cell_type": "markdown",
   "metadata": {},
   "source": [
    "（六）打印出所有的“水仙花数”，所谓的“水仙花数”是指一个3位数，其各位数字立方和等于该数本身。例如，153是一个水仙花数，因为153=1³+5³+3³。"
   ]
  },
  {
   "cell_type": "code",
   "execution_count": 26,
   "metadata": {},
   "outputs": [
    {
     "name": "stdout",
     "output_type": "stream",
     "text": [
      "153\n",
      "370\n",
      "371\n",
      "407\n"
     ]
    }
   ],
   "source": [
    "for x in range(1,10):\n",
    "    for y in range(0,10):\n",
    "        for z in range(0,10):\n",
    "            s1 = x*100+y*10+z\n",
    "            s2 = pow(x,3)+pow(y,3)+pow(z,3)\n",
    "            if s1==s2:\n",
    "                print(s1)\n",
    "            "
   ]
  },
  {
   "cell_type": "markdown",
   "metadata": {},
   "source": [
    "（七）输入一行字符，分别统计英文字母、空格、数字和其他字符有多少个"
   ]
  },
  {
   "cell_type": "code",
   "execution_count": 33,
   "metadata": {},
   "outputs": [
    {
     "name": "stdout",
     "output_type": "stream",
     "text": [
      "input:fadjflasdf0923r_*&*^werjkl\n",
      "letter=17,space=0,digit=4,others=5\n"
     ]
    }
   ],
   "source": [
    "s = input('input:')\n",
    "letter = 0\n",
    "space = 0\n",
    "digit = 0\n",
    "others = 0\n",
    "for c in s:\n",
    "    if c.isalpha():\n",
    "        letter+=1\n",
    "    elif c.isspace():\n",
    "        space+=1\n",
    "    elif c.isdigit():\n",
    "        digit+=1\n",
    "    else :\n",
    "        others+=1\n",
    "print('letter=%d,space=%d,digit=%d,others=%d' % (letter,space,digit,others))"
   ]
  },
  {
   "cell_type": "markdown",
   "metadata": {},
   "source": [
    "（八）一个球从100米高度下落，每次反弹高度为原来的一半，在下落，在反弹。求第10次落地时共经过多少米？第10次反弹多高？"
   ]
  },
  {
   "cell_type": "code",
   "execution_count": 45,
   "metadata": {},
   "outputs": [
    {
     "name": "stdout",
     "output_type": "stream",
     "text": [
      "第10次落地时共经过299.609375米\n",
      "第10次反弹0.097656米高\n"
     ]
    }
   ],
   "source": [
    "h = 100 #总高度\n",
    "time = 10 #次数\n",
    "fh = []#反弹的高度\n",
    "for i in range(2,time+1): # 从第二次开始，每次先反弹后落地\n",
    "    h /= 2\n",
    "    fh.append(h)\n",
    "print('第10次落地时共经过%f米'% (sum(fh)*2+100))\n",
    "print('第10次反弹%f米高'% (min(fh)/2))"
   ]
  },
  {
   "cell_type": "code",
   "execution_count": null,
   "metadata": {},
   "outputs": [],
   "source": []
  }
 ],
 "metadata": {
  "kernelspec": {
   "display_name": "Python 3",
   "language": "python",
   "name": "python3"
  },
  "language_info": {
   "codemirror_mode": {
    "name": "ipython",
    "version": 3
   },
   "file_extension": ".py",
   "mimetype": "text/x-python",
   "name": "python",
   "nbconvert_exporter": "python",
   "pygments_lexer": "ipython3",
   "version": "3.6.4"
  }
 },
 "nbformat": 4,
 "nbformat_minor": 2
}
