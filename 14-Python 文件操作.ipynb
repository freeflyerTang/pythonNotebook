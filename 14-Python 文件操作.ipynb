{
 "cells": [
  {
   "cell_type": "code",
   "execution_count": 1,
   "metadata": {},
   "outputs": [
    {
     "name": "stdout",
     "output_type": "stream",
     "text": [
      "Writing tang.txt\n"
     ]
    }
   ],
   "source": [
    "%%writefile tang.txt\n",
    "hello tangyudi\n",
    "jin tian tian qi hen hao"
   ]
  },
  {
   "cell_type": "code",
   "execution_count": 10,
   "metadata": {},
   "outputs": [],
   "source": [
    "txt = open('./tang.txt')"
   ]
  },
  {
   "cell_type": "code",
   "execution_count": 8,
   "metadata": {},
   "outputs": [
    {
     "name": "stdout",
     "output_type": "stream",
     "text": [
      "hello tangyudi\n",
      "jin tian tian qi hen hao\n"
     ]
    }
   ],
   "source": [
    "txt_read = txt.read()\n",
    "print(txt_read)"
   ]
  },
  {
   "cell_type": "code",
   "execution_count": 11,
   "metadata": {},
   "outputs": [
    {
     "name": "stdout",
     "output_type": "stream",
     "text": [
      "<class 'list'>\n",
      "['hello tangyudi\\n', 'jin tian tian qi hen hao']\n"
     ]
    }
   ],
   "source": [
    "lines = txt.readlines()\n",
    "print(type(lines))\n",
    "print(lines)"
   ]
  },
  {
   "cell_type": "code",
   "execution_count": 12,
   "metadata": {},
   "outputs": [
    {
     "name": "stdout",
     "output_type": "stream",
     "text": [
      "cur line: hello tangyudi\n",
      "\n",
      "cur line: jin tian tian qi hen hao\n"
     ]
    }
   ],
   "source": [
    "for line in lines:\n",
    "    print('cur line:',line)"
   ]
  },
  {
   "cell_type": "code",
   "execution_count": 13,
   "metadata": {},
   "outputs": [],
   "source": [
    "txt.close()"
   ]
  },
  {
   "cell_type": "markdown",
   "metadata": {},
   "source": [
    "a 模式追加内容，w 模式覆盖内容"
   ]
  },
  {
   "cell_type": "code",
   "execution_count": 16,
   "metadata": {},
   "outputs": [],
   "source": [
    "txt = open('tang_write.txt','w')\n",
    "txt.write('jintian tianqi haoqinglang')\n",
    "txt.write('\\n')\n",
    "txt.write('chuchu hao fengguang')\n",
    "txt.close()"
   ]
  },
  {
   "cell_type": "code",
   "execution_count": 17,
   "metadata": {},
   "outputs": [],
   "source": [
    "txt = open('tang_write.txt','w')\n",
    "txt.write('123')\n",
    "txt.write('\\n')\n",
    "txt.write('456')\n",
    "txt.close()"
   ]
  },
  {
   "cell_type": "code",
   "execution_count": 18,
   "metadata": {},
   "outputs": [],
   "source": [
    "txt = open('tang_write.txt','a')\n",
    "txt.write('tang')\n",
    "txt.write('\\n')\n",
    "txt.write('yudi')\n",
    "txt.close()"
   ]
  },
  {
   "cell_type": "code",
   "execution_count": 23,
   "metadata": {},
   "outputs": [
    {
     "name": "stdout",
     "output_type": "stream",
     "text": [
      "0\n",
      "1\n",
      "2\n",
      "3\n",
      "4\n",
      "\n"
     ]
    }
   ],
   "source": [
    "txt = open('tang_new.txt','w')\n",
    "for i in range(5):\n",
    "    txt.write(str(i)+'\\n')\n",
    "txt.close()\n",
    "txt2 = open('tang_new.txt','r')\n",
    "print(txt2.read())"
   ]
  },
  {
   "cell_type": "code",
   "execution_count": 24,
   "metadata": {},
   "outputs": [
    {
     "name": "stdout",
     "output_type": "stream",
     "text": [
      "error: 50\n"
     ]
    }
   ],
   "source": [
    "txt = open('tang_new.txt','w')\n",
    "try:\n",
    "    for i in range(100):\n",
    "        10/(i-50)\n",
    "        txt.write(str(i)+'\\n')\n",
    "except Exception:\n",
    "    print('error:',i)\n",
    "finally:\n",
    "    txt.close()"
   ]
  },
  {
   "cell_type": "code",
   "execution_count": 26,
   "metadata": {},
   "outputs": [],
   "source": [
    "with  open('tang_new.txt','w') as f:\n",
    "    f.write('jin tian tian qi bu cuo')"
   ]
  },
  {
   "cell_type": "code",
   "execution_count": null,
   "metadata": {},
   "outputs": [],
   "source": []
  }
 ],
 "metadata": {
  "kernelspec": {
   "display_name": "Python 3",
   "language": "python",
   "name": "python3"
  },
  "language_info": {
   "codemirror_mode": {
    "name": "ipython",
    "version": 3
   },
   "file_extension": ".py",
   "mimetype": "text/x-python",
   "name": "python",
   "nbconvert_exporter": "python",
   "pygments_lexer": "ipython3",
   "version": "3.6.4"
  }
 },
 "nbformat": 4,
 "nbformat_minor": 2
}
